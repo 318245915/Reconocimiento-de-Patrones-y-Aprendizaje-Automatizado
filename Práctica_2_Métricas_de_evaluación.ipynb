{
  "cells": [
    {
      "cell_type": "markdown",
      "metadata": {
        "id": "view-in-github",
        "colab_type": "text"
      },
      "source": [
        "<a href=\"https://colab.research.google.com/github/318245915/Reconocimiento-de-Patrones-y-Aprendizaje-Automatizado/blob/main/Pr%C3%A1ctica_2_M%C3%A9tricas_de_evaluaci%C3%B3n.ipynb\" target=\"_parent\"><img src=\"https://colab.research.google.com/assets/colab-badge.svg\" alt=\"Open In Colab\"/></a>"
      ]
    },
    {
      "cell_type": "code",
      "source": [
        "from keras.datasets import mnist\n",
        "import numpy as np\n",
        "\n",
        "(x_train, y_train), (x_test, y_test) = mnist.load_data()\n",
        "\n",
        "# Se obtiene una muestra con igual número de: cincos vs no cincos\n",
        "# para el conjunto de entrenamiento y el de test\n",
        "idx_y_train_5 = np.where(y_train == 5)[0]\n",
        "idx_y_train_n5 = np.where(y_train != 5)[0]\n",
        "idx_y_train_n5 = np.random.choice(idx_y_train_n5, idx_y_train_5.shape[0], replace=False)\n",
        "\n",
        "idx_y_train = np.concatenate([idx_y_train_5, idx_y_train_n5])\n",
        "np.random.shuffle(idx_y_train)\n",
        "\n",
        "x_train = x_train[idx_y_train]\n",
        "y_train = y_train[idx_y_train]\n",
        "print(x_train.shape)\n",
        "\n",
        "idx_y_test_5 = np.where(y_test == 5)[0]\n",
        "idx_y_test_n5 = np.where(y_test != 5)[0]\n",
        "idx_y_test_n5 = np.random.choice(idx_y_test_n5, idx_y_test_5.shape[0], replace=False)\n",
        "\n",
        "idx_y_test = np.concatenate([idx_y_test_5, idx_y_test_n5])\n",
        "np.random.shuffle(idx_y_test)\n",
        "\n",
        "x_test = x_test[idx_y_test]\n",
        "y_test = y_test[idx_y_test]\n",
        "print(x_test.shape)\n",
        "\n",
        "y_train_binary = (y_train == 5).astype(int)\n",
        "y_test_binary = (y_test == 5).astype(int)"
      ],
      "metadata": {
        "id": "50CNad4MEsHq",
        "colab": {
          "base_uri": "https://localhost:8080/"
        },
        "outputId": "0b7f9c30-5cad-419c-f620-5507f98cb172"
      },
      "execution_count": 12,
      "outputs": [
        {
          "output_type": "stream",
          "name": "stdout",
          "text": [
            "(10842, 28, 28)\n",
            "(1784, 28, 28)\n"
          ]
        }
      ]
    },
    {
      "cell_type": "code",
      "source": [
        "#EJERCICIO 1\n",
        "from keras.models import Sequential\n",
        "from keras.layers import Flatten, Dense\n",
        "from keras.metrics import F1Score\n",
        "\n",
        "model = Sequential([\n",
        "    Flatten(input_shape=(28, 28)),\n",
        "    Dense(1)\n",
        "])\n",
        "\n",
        "print(model.summary())\n",
        "\n",
        "model.compile(loss='binary_crossentropy', metrics=['accuracy'])\n",
        "model.fit(x_train, y_train_binary, epochs=4, batch_size=2000, validation_split=0.9)"
      ],
      "metadata": {
        "id": "3aBy0CQvHcT9",
        "colab": {
          "base_uri": "https://localhost:8080/"
        },
        "outputId": "539135ae-c9dc-4896-e60d-9d72e90a1b3e"
      },
      "execution_count": 13,
      "outputs": [
        {
          "output_type": "stream",
          "name": "stdout",
          "text": [
            "Model: \"sequential_5\"\n",
            "_________________________________________________________________\n",
            " Layer (type)                Output Shape              Param #   \n",
            "=================================================================\n",
            " flatten_5 (Flatten)         (None, 784)               0         \n",
            "                                                                 \n",
            " dense_5 (Dense)             (None, 1)                 785       \n",
            "                                                                 \n",
            "=================================================================\n",
            "Total params: 785 (3.07 KB)\n",
            "Trainable params: 785 (3.07 KB)\n",
            "Non-trainable params: 0 (0.00 Byte)\n",
            "_________________________________________________________________\n",
            "None\n",
            "Epoch 1/4\n",
            "1/1 [==============================] - 1s 676ms/step - loss: 7.1580 - accuracy: 0.5295 - val_loss: 7.0143 - val_accuracy: 0.5406\n",
            "Epoch 2/4\n",
            "1/1 [==============================] - 0s 57ms/step - loss: 7.1071 - accuracy: 0.5341 - val_loss: 7.0164 - val_accuracy: 0.5406\n",
            "Epoch 3/4\n",
            "1/1 [==============================] - 0s 48ms/step - loss: 7.1089 - accuracy: 0.5351 - val_loss: 6.5932 - val_accuracy: 0.5673\n",
            "Epoch 4/4\n",
            "1/1 [==============================] - 0s 53ms/step - loss: 6.5893 - accuracy: 0.5683 - val_loss: 6.4563 - val_accuracy: 0.5763\n"
          ]
        },
        {
          "output_type": "execute_result",
          "data": {
            "text/plain": [
              "<keras.src.callbacks.History at 0x7b8a36df53c0>"
            ]
          },
          "metadata": {},
          "execution_count": 13
        }
      ]
    },
    {
      "cell_type": "code",
      "source": [
        "#EJERCICIO 1\n",
        "from sklearn.metrics import confusion_matrix, \\\n",
        "precision_score, recall_score,f1_score\n",
        "\n",
        "y_pred = (model.predict(x_test) >= 0.5).astype(int)[:,0]\n",
        "\n",
        "conf_matrix = confusion_matrix(y_test_binary, y_pred)\n",
        "print(\"Matriz de confusión:\")\n",
        "print(conf_matrix)\n",
        "\n",
        "precision = precision_score(y_test_binary, y_pred)\n",
        "print(\"Precision_1:\", precision)\n",
        "recall = recall_score(y_test_binary, y_pred)\n",
        "print(\"Recall_1:\", recall)\n",
        "f1_s = f1_score(y_test_binary, y_pred)\n",
        "print(\"F1-score_1:\", f1_s)\n",
        "\n",
        "\n",
        "precision_0 = precision_score(y_test_binary, y_pred, pos_label=0)\n",
        "print(\"Precision_0:\", precision_0)\n",
        "recall_0 = recall_score(y_test_binary, y_pred, pos_label=0)\n",
        "print(\"Recall_0:\", recall_0)\n",
        "f1_s_0 = f1_score(y_test_binary, y_pred, pos_label=0)\n",
        "print(\"F1-score_0:\", f1_s_0)"
      ],
      "metadata": {
        "id": "Bcb43x96H6xD",
        "colab": {
          "base_uri": "https://localhost:8080/"
        },
        "outputId": "9d70d417-5e55-4fbd-b5cb-1f5dcf97e77d"
      },
      "execution_count": 14,
      "outputs": [
        {
          "output_type": "stream",
          "name": "stdout",
          "text": [
            "56/56 [==============================] - 0s 1ms/step\n",
            "Matriz de confusión:\n",
            "[[344 548]\n",
            " [169 723]]\n",
            "Precision_1: 0.5688434303697876\n",
            "Recall_1: 0.8105381165919282\n",
            "F1-score_1: 0.668515950069348\n",
            "Precision_0: 0.6705653021442495\n",
            "Recall_0: 0.38565022421524664\n",
            "F1-score_0: 0.48967971530249105\n"
          ]
        }
      ]
    },
    {
      "cell_type": "code",
      "source": [
        "#EJERCICIO 2\n",
        "from keras.models import Sequential\n",
        "from keras.layers import Flatten, Dense\n",
        "from keras.metrics import F1Score\n",
        "\n",
        "model = Sequential([\n",
        "    Flatten(input_shape=(28, 28)),\n",
        "    Dense(1)\n",
        "])\n",
        "\n",
        "print(model.summary())\n",
        "\n",
        "model.compile(loss='binary_crossentropy', metrics=['accuracy'])\n",
        "model.fit(x_train, y_train_binary, epochs=20, batch_size=2000, validation_split=0.9)"
      ],
      "metadata": {
        "colab": {
          "base_uri": "https://localhost:8080/"
        },
        "id": "s8JTOkBYx37k",
        "outputId": "be5e960a-b49f-49fa-d1a5-62f6af4a038a"
      },
      "execution_count": 4,
      "outputs": [
        {
          "output_type": "stream",
          "name": "stdout",
          "text": [
            "Model: \"sequential_1\"\n",
            "_________________________________________________________________\n",
            " Layer (type)                Output Shape              Param #   \n",
            "=================================================================\n",
            " flatten_1 (Flatten)         (None, 784)               0         \n",
            "                                                                 \n",
            " dense_1 (Dense)             (None, 1)                 785       \n",
            "                                                                 \n",
            "=================================================================\n",
            "Total params: 785 (3.07 KB)\n",
            "Trainable params: 785 (3.07 KB)\n",
            "Non-trainable params: 0 (0.00 Byte)\n",
            "_________________________________________________________________\n",
            "None\n",
            "Epoch 1/20\n",
            "1/1 [==============================] - 1s 1s/step - loss: 7.2062 - accuracy: 0.5277 - val_loss: 6.1638 - val_accuracy: 0.5983\n",
            "Epoch 2/20\n",
            "1/1 [==============================] - 0s 78ms/step - loss: 6.4899 - accuracy: 0.5756 - val_loss: 6.0658 - val_accuracy: 0.6028\n",
            "Epoch 3/20\n",
            "1/1 [==============================] - 0s 77ms/step - loss: 6.3981 - accuracy: 0.5821 - val_loss: 5.9681 - val_accuracy: 0.6081\n",
            "Epoch 4/20\n",
            "1/1 [==============================] - 0s 110ms/step - loss: 6.2143 - accuracy: 0.5913 - val_loss: 5.6645 - val_accuracy: 0.6284\n",
            "Epoch 5/20\n",
            "1/1 [==============================] - 0s 105ms/step - loss: 5.8075 - accuracy: 0.6190 - val_loss: 5.7208 - val_accuracy: 0.6237\n",
            "Epoch 6/20\n",
            "1/1 [==============================] - 0s 110ms/step - loss: 5.9652 - accuracy: 0.6070 - val_loss: 5.1369 - val_accuracy: 0.6628\n",
            "Epoch 7/20\n",
            "1/1 [==============================] - 0s 49ms/step - loss: 5.3985 - accuracy: 0.6467 - val_loss: 5.1002 - val_accuracy: 0.6663\n",
            "Epoch 8/20\n",
            "1/1 [==============================] - 0s 52ms/step - loss: 5.3854 - accuracy: 0.6476 - val_loss: 5.0124 - val_accuracy: 0.6717\n",
            "Epoch 9/20\n",
            "1/1 [==============================] - 0s 52ms/step - loss: 5.2697 - accuracy: 0.6559 - val_loss: 4.9908 - val_accuracy: 0.6730\n",
            "Epoch 10/20\n",
            "1/1 [==============================] - 0s 52ms/step - loss: 5.2343 - accuracy: 0.6559 - val_loss: 4.7971 - val_accuracy: 0.6854\n",
            "Epoch 11/20\n",
            "1/1 [==============================] - 0s 48ms/step - loss: 5.0531 - accuracy: 0.6688 - val_loss: 4.6934 - val_accuracy: 0.6925\n",
            "Epoch 12/20\n",
            "1/1 [==============================] - 0s 53ms/step - loss: 4.9097 - accuracy: 0.6790 - val_loss: 4.7066 - val_accuracy: 0.6903\n",
            "Epoch 13/20\n",
            "1/1 [==============================] - 0s 53ms/step - loss: 4.8953 - accuracy: 0.6799 - val_loss: 4.6965 - val_accuracy: 0.6915\n",
            "Epoch 14/20\n",
            "1/1 [==============================] - 0s 53ms/step - loss: 4.8530 - accuracy: 0.6836 - val_loss: 4.6103 - val_accuracy: 0.6971\n",
            "Epoch 15/20\n",
            "1/1 [==============================] - 0s 53ms/step - loss: 4.7866 - accuracy: 0.6863 - val_loss: 4.6872 - val_accuracy: 0.6926\n",
            "Epoch 16/20\n",
            "1/1 [==============================] - 0s 50ms/step - loss: 5.0352 - accuracy: 0.6697 - val_loss: 5.0821 - val_accuracy: 0.6661\n",
            "Epoch 17/20\n",
            "1/1 [==============================] - 0s 48ms/step - loss: 5.1544 - accuracy: 0.6614 - val_loss: 5.5847 - val_accuracy: 0.6326\n",
            "Epoch 18/20\n",
            "1/1 [==============================] - 0s 52ms/step - loss: 5.5169 - accuracy: 0.6356 - val_loss: 4.6866 - val_accuracy: 0.6920\n",
            "Epoch 19/20\n",
            "1/1 [==============================] - 0s 52ms/step - loss: 4.9422 - accuracy: 0.6771 - val_loss: 4.6651 - val_accuracy: 0.6930\n",
            "Epoch 20/20\n",
            "1/1 [==============================] - 0s 56ms/step - loss: 4.9032 - accuracy: 0.6780 - val_loss: 4.4395 - val_accuracy: 0.7080\n"
          ]
        },
        {
          "output_type": "execute_result",
          "data": {
            "text/plain": [
              "<keras.src.callbacks.History at 0x7b8a35bf9120>"
            ]
          },
          "metadata": {},
          "execution_count": 4
        }
      ]
    },
    {
      "cell_type": "code",
      "source": [
        "#EJERCICIO 2\n",
        "from sklearn.metrics import confusion_matrix, \\\n",
        "precision_score, recall_score,f1_score\n",
        "\n",
        "y_pred = (model.predict(x_test) >= 0.5).astype(int)[:,0]\n",
        "\n",
        "conf_matrix = confusion_matrix(y_test_binary, y_pred)\n",
        "print(\"Matriz de confusión:\")\n",
        "print(conf_matrix)\n",
        "\n",
        "precision = precision_score(y_test_binary, y_pred)\n",
        "print(\"Precision_1:\", precision)\n",
        "recall = recall_score(y_test_binary, y_pred)\n",
        "print(\"Recall_1:\", recall)\n",
        "f1_s = f1_score(y_test_binary, y_pred)\n",
        "print(\"F1-score_1:\", f1_s)\n",
        "\n",
        "\n",
        "precision_0 = precision_score(y_test_binary, y_pred, pos_label=0)\n",
        "print(\"Precision_0:\", precision_0)\n",
        "recall_0 = recall_score(y_test_binary, y_pred, pos_label=0)\n",
        "print(\"Recall_0:\", recall_0)\n",
        "f1_s_0 = f1_score(y_test_binary, y_pred, pos_label=0)\n",
        "print(\"F1-score_0:\", f1_s_0)"
      ],
      "metadata": {
        "colab": {
          "base_uri": "https://localhost:8080/"
        },
        "id": "YlAs2oHBykk2",
        "outputId": "46e75949-253f-49cc-806d-929e878818b2"
      },
      "execution_count": 5,
      "outputs": [
        {
          "output_type": "stream",
          "name": "stdout",
          "text": [
            "56/56 [==============================] - 0s 1ms/step\n",
            "Matriz de confusión:\n",
            "[[592 300]\n",
            " [175 717]]\n",
            "Precision_1: 0.7050147492625368\n",
            "Recall_1: 0.8038116591928252\n",
            "F1-score_1: 0.751178627553693\n",
            "Precision_0: 0.771838331160365\n",
            "Recall_0: 0.6636771300448431\n",
            "F1-score_0: 0.7136829415310427\n"
          ]
        }
      ]
    },
    {
      "cell_type": "code",
      "source": [
        "#EJERCICIO 3\n",
        "from keras.models import Sequential\n",
        "from keras.layers import Flatten, Dense\n",
        "from keras.metrics import F1Score\n",
        "\n",
        "model = Sequential([\n",
        "    Flatten(input_shape=(28, 28)),\n",
        "    Dense(1)\n",
        "])\n",
        "\n",
        "print(model.summary())\n",
        "\n",
        "model.compile(loss='binary_crossentropy', metrics=['accuracy'])\n",
        "model.fit(x_train, y_train_binary, epochs=4, batch_size=2, validation_split=0.9)"
      ],
      "metadata": {
        "colab": {
          "base_uri": "https://localhost:8080/"
        },
        "id": "wP2Vr_vyx6Qh",
        "outputId": "308f1203-0ab4-44b5-b4c8-3e046b15d7a6"
      },
      "execution_count": 6,
      "outputs": [
        {
          "output_type": "stream",
          "name": "stdout",
          "text": [
            "Model: \"sequential_2\"\n",
            "_________________________________________________________________\n",
            " Layer (type)                Output Shape              Param #   \n",
            "=================================================================\n",
            " flatten_2 (Flatten)         (None, 784)               0         \n",
            "                                                                 \n",
            " dense_2 (Dense)             (None, 1)                 785       \n",
            "                                                                 \n",
            "=================================================================\n",
            "Total params: 785 (3.07 KB)\n",
            "Trainable params: 785 (3.07 KB)\n",
            "Non-trainable params: 0 (0.00 Byte)\n",
            "_________________________________________________________________\n",
            "None\n",
            "Epoch 1/4\n",
            "542/542 [==============================] - 12s 21ms/step - loss: 7.6951 - accuracy: 0.4954 - val_loss: 7.9658 - val_accuracy: 0.4776\n",
            "Epoch 2/4\n",
            "542/542 [==============================] - 7s 13ms/step - loss: 7.6583 - accuracy: 0.4972 - val_loss: 7.4330 - val_accuracy: 0.5122\n",
            "Epoch 3/4\n",
            "542/542 [==============================] - 6s 11ms/step - loss: 7.0135 - accuracy: 0.5406 - val_loss: 6.8875 - val_accuracy: 0.5484\n",
            "Epoch 4/4\n",
            "542/542 [==============================] - 7s 13ms/step - loss: 6.5501 - accuracy: 0.5673 - val_loss: 6.0395 - val_accuracy: 0.6035\n"
          ]
        },
        {
          "output_type": "execute_result",
          "data": {
            "text/plain": [
              "<keras.src.callbacks.History at 0x7b8a377c9180>"
            ]
          },
          "metadata": {},
          "execution_count": 6
        }
      ]
    },
    {
      "cell_type": "code",
      "source": [
        "#EJERCICIO 3\n",
        "from sklearn.metrics import confusion_matrix, \\\n",
        "precision_score, recall_score,f1_score\n",
        "\n",
        "y_pred = (model.predict(x_test) >= 0.5).astype(int)[:,0]\n",
        "\n",
        "conf_matrix = confusion_matrix(y_test_binary, y_pred)\n",
        "print(\"Matriz de confusión:\")\n",
        "print(conf_matrix)\n",
        "\n",
        "precision = precision_score(y_test_binary, y_pred)\n",
        "print(\"Precision_1:\", precision)\n",
        "recall = recall_score(y_test_binary, y_pred)\n",
        "print(\"Recall_1:\", recall)\n",
        "f1_s = f1_score(y_test_binary, y_pred)\n",
        "print(\"F1-score_1:\", f1_s)\n",
        "\n",
        "\n",
        "precision_0 = precision_score(y_test_binary, y_pred, pos_label=0)\n",
        "print(\"Precision_0:\", precision_0)\n",
        "recall_0 = recall_score(y_test_binary, y_pred, pos_label=0)\n",
        "print(\"Recall_0:\", recall_0)\n",
        "f1_s_0 = f1_score(y_test_binary, y_pred, pos_label=0)\n",
        "print(\"F1-score_0:\", f1_s_0)"
      ],
      "metadata": {
        "colab": {
          "base_uri": "https://localhost:8080/"
        },
        "id": "poUWDwmTypXU",
        "outputId": "d149e3da-2195-484c-8b08-461fd723c33c"
      },
      "execution_count": 7,
      "outputs": [
        {
          "output_type": "stream",
          "name": "stdout",
          "text": [
            "56/56 [==============================] - 0s 1ms/step\n",
            "Matriz de confusión:\n",
            "[[438 454]\n",
            " [236 656]]\n",
            "Precision_1: 0.590990990990991\n",
            "Recall_1: 0.7354260089686099\n",
            "F1-score_1: 0.6553446553446552\n",
            "Precision_0: 0.6498516320474778\n",
            "Recall_0: 0.4910313901345291\n",
            "F1-score_0: 0.5593869731800765\n"
          ]
        }
      ]
    },
    {
      "cell_type": "code",
      "source": [
        "#EJERCICIO 4\n",
        "from keras.models import Sequential\n",
        "from keras.layers import Flatten, Dense\n",
        "from keras.metrics import F1Score\n",
        "\n",
        "model = Sequential([\n",
        "    Flatten(input_shape=(28, 28)),\n",
        "    Dense(1)\n",
        "])\n",
        "\n",
        "print(model.summary())\n",
        "\n",
        "model.compile(loss='binary_crossentropy', metrics=['accuracy'])\n",
        "model.fit(x_train, y_train_binary, epochs=4, batch_size=2000, validation_split=0.01)"
      ],
      "metadata": {
        "colab": {
          "base_uri": "https://localhost:8080/"
        },
        "id": "ji3mn4fzx56I",
        "outputId": "c085713b-31cb-407e-9858-c76150bd19f9"
      },
      "execution_count": 8,
      "outputs": [
        {
          "output_type": "stream",
          "name": "stdout",
          "text": [
            "Model: \"sequential_3\"\n",
            "_________________________________________________________________\n",
            " Layer (type)                Output Shape              Param #   \n",
            "=================================================================\n",
            " flatten_3 (Flatten)         (None, 784)               0         \n",
            "                                                                 \n",
            " dense_3 (Dense)             (None, 1)                 785       \n",
            "                                                                 \n",
            "=================================================================\n",
            "Total params: 785 (3.07 KB)\n",
            "Trainable params: 785 (3.07 KB)\n",
            "Non-trainable params: 0 (0.00 Byte)\n",
            "_________________________________________________________________\n",
            "None\n",
            "Epoch 1/4\n",
            "6/6 [==============================] - 1s 91ms/step - loss: 9.0903 - accuracy: 0.4066 - val_loss: 10.2676 - val_accuracy: 0.3303\n",
            "Epoch 2/4\n",
            "6/6 [==============================] - 0s 38ms/step - loss: 7.6956 - accuracy: 0.4954 - val_loss: 8.1320 - val_accuracy: 0.4679\n",
            "Epoch 3/4\n",
            "6/6 [==============================] - 0s 22ms/step - loss: 7.0624 - accuracy: 0.5363 - val_loss: 7.4422 - val_accuracy: 0.5138\n",
            "Epoch 4/4\n",
            "6/6 [==============================] - 0s 18ms/step - loss: 6.4488 - accuracy: 0.5764 - val_loss: 7.2939 - val_accuracy: 0.5229\n"
          ]
        },
        {
          "output_type": "execute_result",
          "data": {
            "text/plain": [
              "<keras.src.callbacks.History at 0x7b8a3775f7c0>"
            ]
          },
          "metadata": {},
          "execution_count": 8
        }
      ]
    },
    {
      "cell_type": "code",
      "source": [
        "#EJERCICIO 4\n",
        "from sklearn.metrics import confusion_matrix, \\\n",
        "precision_score, recall_score,f1_score\n",
        "\n",
        "y_pred = (model.predict(x_test) >= 0.5).astype(int)[:,0]\n",
        "\n",
        "conf_matrix = confusion_matrix(y_test_binary, y_pred)\n",
        "print(\"Matriz de confusión:\")\n",
        "print(conf_matrix)\n",
        "\n",
        "precision = precision_score(y_test_binary, y_pred)\n",
        "print(\"Precision_1:\", precision)\n",
        "recall = recall_score(y_test_binary, y_pred)\n",
        "print(\"Recall_1:\", recall)\n",
        "f1_s = f1_score(y_test_binary, y_pred)\n",
        "print(\"F1-score_1:\", f1_s)\n",
        "\n",
        "\n",
        "precision_0 = precision_score(y_test_binary, y_pred, pos_label=0)\n",
        "print(\"Precision_0:\", precision_0)\n",
        "recall_0 = recall_score(y_test_binary, y_pred, pos_label=0)\n",
        "print(\"Recall_0:\", recall_0)\n",
        "f1_s_0 = f1_score(y_test_binary, y_pred, pos_label=0)\n",
        "print(\"F1-score_0:\", f1_s_0)"
      ],
      "metadata": {
        "colab": {
          "base_uri": "https://localhost:8080/"
        },
        "id": "kZACskXRytUX",
        "outputId": "b6143c09-ef1d-4bcb-aa01-d4d86817246c"
      },
      "execution_count": 9,
      "outputs": [
        {
          "output_type": "stream",
          "name": "stdout",
          "text": [
            "56/56 [==============================] - 0s 2ms/step\n",
            "Matriz de confusión:\n",
            "[[261 631]\n",
            " [135 757]]\n",
            "Precision_1: 0.5453890489913544\n",
            "Recall_1: 0.8486547085201793\n",
            "F1-score_1: 0.6640350877192981\n",
            "Precision_0: 0.6590909090909091\n",
            "Recall_0: 0.29260089686098656\n",
            "F1-score_0: 0.40527950310559\n"
          ]
        }
      ]
    },
    {
      "cell_type": "code",
      "source": [
        "#EJERCICIO 5\n",
        "from keras.models import Sequential\n",
        "from keras.layers import Flatten, Dense\n",
        "from keras.metrics import F1Score\n",
        "\n",
        "model = Sequential([\n",
        "    Flatten(input_shape=(28, 28)),\n",
        "    Dense(1)\n",
        "])\n",
        "\n",
        "print(model.summary())\n",
        "\n",
        "model.compile(loss='binary_crossentropy', metrics=['accuracy'])\n",
        "model.fit(x_train, y_train_binary, epochs=14, batch_size=30, validation_split=0.2)"
      ],
      "metadata": {
        "colab": {
          "base_uri": "https://localhost:8080/"
        },
        "id": "xLoSb2Cjx5Wl",
        "outputId": "62f58ef9-8736-4bcc-82ce-4d6f7fe6f412"
      },
      "execution_count": 10,
      "outputs": [
        {
          "output_type": "stream",
          "name": "stdout",
          "text": [
            "Model: \"sequential_4\"\n",
            "_________________________________________________________________\n",
            " Layer (type)                Output Shape              Param #   \n",
            "=================================================================\n",
            " flatten_4 (Flatten)         (None, 784)               0         \n",
            "                                                                 \n",
            " dense_4 (Dense)             (None, 1)                 785       \n",
            "                                                                 \n",
            "=================================================================\n",
            "Total params: 785 (3.07 KB)\n",
            "Trainable params: 785 (3.07 KB)\n",
            "Non-trainable params: 0 (0.00 Byte)\n",
            "_________________________________________________________________\n",
            "None\n",
            "Epoch 1/14\n",
            "290/290 [==============================] - 1s 3ms/step - loss: 6.2457 - accuracy: 0.5932 - val_loss: 5.2800 - val_accuracy: 0.6556\n",
            "Epoch 2/14\n",
            "290/290 [==============================] - 1s 3ms/step - loss: 5.3174 - accuracy: 0.6538 - val_loss: 5.2698 - val_accuracy: 0.6570\n",
            "Epoch 3/14\n",
            "290/290 [==============================] - 1s 3ms/step - loss: 4.7434 - accuracy: 0.6902 - val_loss: 4.4351 - val_accuracy: 0.7082\n",
            "Epoch 4/14\n",
            "290/290 [==============================] - 1s 3ms/step - loss: 3.6724 - accuracy: 0.7591 - val_loss: 3.1667 - val_accuracy: 0.7921\n",
            "Epoch 5/14\n",
            "290/290 [==============================] - 1s 3ms/step - loss: 3.4164 - accuracy: 0.7762 - val_loss: 2.9286 - val_accuracy: 0.8082\n",
            "Epoch 6/14\n",
            "290/290 [==============================] - 1s 3ms/step - loss: 2.6579 - accuracy: 0.8254 - val_loss: 2.6087 - val_accuracy: 0.8294\n",
            "Epoch 7/14\n",
            "290/290 [==============================] - 1s 2ms/step - loss: 2.5162 - accuracy: 0.8349 - val_loss: 2.2729 - val_accuracy: 0.8515\n",
            "Epoch 8/14\n",
            "290/290 [==============================] - 1s 2ms/step - loss: 2.3666 - accuracy: 0.8452 - val_loss: 2.3015 - val_accuracy: 0.8483\n",
            "Epoch 9/14\n",
            "290/290 [==============================] - 1s 2ms/step - loss: 2.3984 - accuracy: 0.8431 - val_loss: 2.3521 - val_accuracy: 0.8460\n",
            "Epoch 10/14\n",
            "290/290 [==============================] - 1s 2ms/step - loss: 2.2537 - accuracy: 0.8518 - val_loss: 2.2730 - val_accuracy: 0.8515\n",
            "Epoch 11/14\n",
            "290/290 [==============================] - 1s 2ms/step - loss: 2.2439 - accuracy: 0.8535 - val_loss: 2.1664 - val_accuracy: 0.8575\n",
            "Epoch 12/14\n",
            "290/290 [==============================] - 1s 2ms/step - loss: 2.1303 - accuracy: 0.8606 - val_loss: 2.1332 - val_accuracy: 0.8603\n",
            "Epoch 13/14\n",
            "290/290 [==============================] - 1s 2ms/step - loss: 1.9844 - accuracy: 0.8699 - val_loss: 2.0478 - val_accuracy: 0.8658\n",
            "Epoch 14/14\n",
            "290/290 [==============================] - 1s 2ms/step - loss: 2.0812 - accuracy: 0.8629 - val_loss: 2.1480 - val_accuracy: 0.8603\n"
          ]
        },
        {
          "output_type": "execute_result",
          "data": {
            "text/plain": [
              "<keras.src.callbacks.History at 0x7b8a36d07ee0>"
            ]
          },
          "metadata": {},
          "execution_count": 10
        }
      ]
    },
    {
      "cell_type": "code",
      "source": [
        "#EJERCICIO 5\n",
        "from sklearn.metrics import confusion_matrix, \\\n",
        "precision_score, recall_score,f1_score\n",
        "\n",
        "y_pred = (model.predict(x_test) >= 0.5).astype(int)[:,0]\n",
        "\n",
        "conf_matrix = confusion_matrix(y_test_binary, y_pred)\n",
        "print(\"Matriz de confusión:\")\n",
        "print(conf_matrix)\n",
        "\n",
        "precision = precision_score(y_test_binary, y_pred)\n",
        "print(\"Precision_1:\", precision)\n",
        "recall = recall_score(y_test_binary, y_pred)\n",
        "print(\"Recall_1:\", recall)\n",
        "f1_s = f1_score(y_test_binary, y_pred)\n",
        "print(\"F1-score_1:\", f1_s)\n",
        "\n",
        "\n",
        "precision_0 = precision_score(y_test_binary, y_pred, pos_label=0)\n",
        "print(\"Precision_0:\", precision_0)\n",
        "recall_0 = recall_score(y_test_binary, y_pred, pos_label=0)\n",
        "print(\"Recall_0:\", recall_0)\n",
        "f1_s_0 = f1_score(y_test_binary, y_pred, pos_label=0)\n",
        "print(\"F1-score_0:\", f1_s_0)"
      ],
      "metadata": {
        "colab": {
          "base_uri": "https://localhost:8080/"
        },
        "id": "LR9PptSQyvht",
        "outputId": "369c2216-6b93-42ac-916b-afbed7e406a0"
      },
      "execution_count": 11,
      "outputs": [
        {
          "output_type": "stream",
          "name": "stdout",
          "text": [
            "56/56 [==============================] - 0s 2ms/step\n",
            "Matriz de confusión:\n",
            "[[837  55]\n",
            " [161 731]]\n",
            "Precision_1: 0.9300254452926209\n",
            "Recall_1: 0.8195067264573991\n",
            "F1-score_1: 0.8712753277711562\n",
            "Precision_0: 0.8386773547094188\n",
            "Recall_0: 0.9383408071748879\n",
            "F1-score_0: 0.8857142857142856\n"
          ]
        }
      ]
    }
  ],
  "metadata": {
    "colab": {
      "provenance": [],
      "authorship_tag": "ABX9TyO7i0Ev+Rg3Dq6JL3O+S0YU",
      "include_colab_link": true
    },
    "kernelspec": {
      "display_name": "Python 3",
      "name": "python3"
    },
    "language_info": {
      "name": "python"
    }
  },
  "nbformat": 4,
  "nbformat_minor": 0
}