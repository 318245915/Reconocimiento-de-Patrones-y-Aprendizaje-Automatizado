{
  "nbformat": 4,
  "nbformat_minor": 0,
  "metadata": {
    "colab": {
      "provenance": [],
      "authorship_tag": "ABX9TyPAjCkRLGC02/AeEl7gQc2F",
      "include_colab_link": true
    },
    "kernelspec": {
      "name": "python3",
      "display_name": "Python 3"
    },
    "language_info": {
      "name": "python"
    }
  },
  "cells": [
    {
      "cell_type": "markdown",
      "metadata": {
        "id": "view-in-github",
        "colab_type": "text"
      },
      "source": [
        "<a href=\"https://colab.research.google.com/github/318245915/Reconocimiento-de-Patrones-y-Aprendizaje-Automatizado/blob/main/Pr%C3%A1ctica_6.ipynb\" target=\"_parent\"><img src=\"https://colab.research.google.com/assets/colab-badge.svg\" alt=\"Open In Colab\"/></a>"
      ]
    },
    {
      "cell_type": "markdown",
      "source": [
        "Ejecuta la celda 1 para generar los datos de entrenamiento con 20 muestras de la clase 1 y 15 para la clase 2, deja el\n",
        "parámetro load_data=False"
      ],
      "metadata": {
        "id": "yQnseqavhtNS"
      }
    },
    {
      "cell_type": "code",
      "execution_count": 1,
      "metadata": {
        "colab": {
          "base_uri": "https://localhost:8080/",
          "height": 465
        },
        "id": "6lpj5ouIfzMW",
        "outputId": "5c646406-d65e-4bef-e23c-f33212191732"
      },
      "outputs": [
        {
          "output_type": "stream",
          "name": "stdout",
          "text": [
            "X.shape  (35, 2)\n",
            "y.shape  (35,)\n"
          ]
        },
        {
          "output_type": "display_data",
          "data": {
            "text/plain": [
              "<Figure size 640x480 with 1 Axes>"
            ],
            "image/png": "[encoded data removed]"
          },
          "metadata": {}
        }
      ],
      "source": [
        "import numpy as np\n",
        "import matplotlib.pyplot as plt\n",
        "import csv\n",
        "\n",
        "load_data = False\n",
        "X_data, y_label = [], []\n",
        "\n",
        "if load_data:  # Cargar datos no separables\n",
        "    with open(\"datos_perceptron.csv\", newline=\"\") as csvfile:\n",
        "        reader = csv.reader(csvfile, delimiter=\",\")\n",
        "        header = next(reader, None)\n",
        "        for i, row in enumerate(reader):\n",
        "            X_data.append([float(row[0]), float(row[1])])\n",
        "            y_label.append(-1 if int(row[2]) == 0 else +1)  # if y=0 -> -1; else +1\n",
        "        X_data = np.array(X_data)\n",
        "        y_label= np.array(y_label)\n",
        "\n",
        "else:  # Generar datos separables\n",
        "    muestras_c1 = 20\n",
        "    muestras_c2 = 15\n",
        "    np.random.seed(0)  # Semilla para replicar los resultados\n",
        "    X_data = np.r_[np.random.randn(muestras_c1, 2) - [2, 2],\n",
        "                   np.random.randn(muestras_c2, 2) + [2, 2]]\n",
        "    y_label = np.array([-1] * muestras_c1 + [1] * muestras_c2)\n",
        "\n",
        "print(\"X.shape \", X_data.shape)\n",
        "print(\"y.shape \", y_label.shape)\n",
        "fig = plt.figure()\n",
        "ax = fig.add_subplot(1,1,1)\n",
        "plt.scatter(X_data[:,0], X_data[:,1], c=y_label)\n",
        "plt.show()\n",
        "xlim = ax.get_xlim()\n",
        "ylim = ax.get_ylim()\n"
      ]
    },
    {
      "cell_type": "markdown",
      "source": [
        "Completa la celda 2 para implementar una SVM lineal con margen suave.\n",
        "\n",
        "Hint: Identifica el proceso para aplicar cvxpy en fuentes oficiales. Usa las funciones: Minimize, norm2, Problem, solve de cvxpy"
      ],
      "metadata": {
        "id": "xVQGAFoKhvHZ"
      }
    },
    {
      "cell_type": "code",
      "source": [
        "import cvxpy\n",
        "\n",
        "class Linear_SVC(object):\n",
        "    def __init__(self, C=1.0):\n",
        "        if C <= 0:\n",
        "            msj = \"El valor de penalización C \" + str(C) + \" debe ser mayor a 0\"\n",
        "            raise ValueError(str(msj))\n",
        "        self.C = C\n",
        "\n",
        "    def verify_class(self, Y):\n",
        "        classes = []\n",
        "        classes.append(Y[0])\n",
        "        for c in Y:\n",
        "            if c not in classes:\n",
        "                classes.append(c)\n",
        "        return classes\n",
        "\n",
        "    def div_classes(self, matX, Y, classes):\n",
        "        classA, classB = [], []\n",
        "        for i, dat in enumerate(matX):\n",
        "            if Y[i] == -1:  # classes[0]\n",
        "                classB.append(dat)\n",
        "            else:  # +1 classes[1]\n",
        "                classA.append(dat)\n",
        "        return classA, classB\n",
        "\n",
        "    def fit(self, X, Y, margin='soft'):\n",
        "        classes = self.verify_class(Y)\n",
        "        print('Clases: ', classes)\n",
        "\n",
        "        x1, x2 = self.div_classes(X, Y, classes)\n",
        "        x1 = np.asmatrix(x1)   # Datos clase -1\n",
        "        x2 = np.asmatrix(x2)   # Datos clase +1\n",
        "        N = x1.shape[0]\n",
        "        M = x2.shape[0]\n",
        "        features = X.shape[1]\n",
        "        print('features.shape: ', features)\n",
        "\n",
        "        # Variables\n",
        "        w = cvxpy.Variable(features)\n",
        "        w0 = cvxpy.Variable()\n",
        "        u = cvxpy.Variable(N)\n",
        "        v = cvxpy.Variable(M)\n",
        "\n",
        "        if margin == \"soft\":\n",
        "            # Margen suave\n",
        "            objective = cvxpy.Minimize(cvxpy.norm(w, 2) ** 2 + self.C * (np.ones((1, N)) @ u + np.ones((1, M)) @ v))\n",
        "            constraint = [x1 @ w + w0 >= 1 - u, x2 @ w + w0 <= -1 + v, u >= 0, v >= 0]\n",
        "\n",
        "        # Aplicar solución\n",
        "        prob = cvxpy.Problem(objective, constraint)\n",
        "        prob.solve()\n",
        "\n",
        "        # Regresar resultados\n",
        "        return np.asarray(w.value), np.asarray(w0.value)\n",
        "\n",
        "# Generar datos de ejemplo\n",
        "X_data = np.array([[1, 2], [2, 3], [3, 3], [2, 1], [3, 2], [1, 3], [4, 2], [3, 4]])\n",
        "y_label = np.array([-1, -1, -1, -1, -1, 1, 1, 1])\n",
        "\n",
        "# Crear el clasificador SVM lineal\n",
        "svc = Linear_SVC(C=1.0)\n",
        "\n",
        "# Ajustar el modelo a los datos\n",
        "svc.fit(X_data, y_label)\n"
      ],
      "metadata": {
        "colab": {
          "base_uri": "https://localhost:8080/"
        },
        "id": "iT1r7KUxhx4p",
        "outputId": "6e668707-2da2-4ec4-db5b-c5459da2e522"
      },
      "execution_count": 3,
      "outputs": [
        {
          "output_type": "stream",
          "name": "stdout",
          "text": [
            "Clases:  [-1, 1]\n",
            "features.shape:  2\n"
          ]
        },
        {
          "output_type": "execute_result",
          "data": {
            "text/plain": [
              "(array([1.47230935e-05, 5.00000002e-01]), array(-2.00002943))"
            ]
          },
          "metadata": {},
          "execution_count": 3
        }
      ]
    },
    {
      "cell_type": "markdown",
      "source": [
        "Completa la celda 3 para cargar la función plot_svm_boundary"
      ],
      "metadata": {
        "id": "LENkSInJiPxY"
      }
    },
    {
      "cell_type": "code",
      "source": [
        "def plot_svm_boundary(w, bias, X_data, y_label, xlim, ylim):\n",
        "    pendiente = -w[0]/(w[1] + 0.0001)\n",
        "    cruce = -bias/(w[1] + 0.0001)\n",
        "    xx = np.linspace(xlim[0], xlim[1])\n",
        "    yy = pendiente * xx  + cruce  # Y = mX + b\n",
        "\n",
        "    margen = 1 / np.sqrt(np.sum(w ** 2))  # norma\n",
        "    yy_sup = yy + np.sqrt(1 + pendiente ** 2) * margen  # frontera -1\n",
        "    yy_inf = yy - np.sqrt(1 + pendiente ** 2) * margen  # frontera +1\n",
        "\n",
        "    plt.figure()\n",
        "    plt.scatter(X_data[:, 0], X_data[:, 1], c=y_label)\n",
        "    plt.plot(xx, yy, 'b-')\n",
        "    plt.plot(xx, yy_inf, 'r--')\n",
        "    plt.plot(xx, yy_sup, 'r--')\n",
        "    plt.xlim(xlim)\n",
        "    plt.ylim(ylim)\n",
        "    plt.show()\n"
      ],
      "metadata": {
        "id": "2DKtTEpkilEH"
      },
      "execution_count": 4,
      "outputs": []
    },
    {
      "cell_type": "markdown",
      "source": [
        "Celda 4: Crea una instancia de la clase Linear_SVC implementada y aplique el ajuste a los datos generados, imprime la frontera llamando la función de la celda 3"
      ],
      "metadata": {
        "id": "cSIgHWvZiqSc"
      }
    },
    {
      "cell_type": "code",
      "source": [
        "# Crear una instancia de la clase Linear_SVC\n",
        "clf = Linear_SVC(C=1.0)\n",
        "\n",
        "# Aplicar el ajuste a los datos generados\n",
        "w, b = clf.fit(X_data, y_label, margin=\"soft\")\n",
        "print(\"W:\", w, \"b:\", b)\n",
        "\n",
        "# Dibujar frontera\n",
        "plot_svm_boundary(w, b, X_data, y_label, xlim, ylim)\n"
      ],
      "metadata": {
        "colab": {
          "base_uri": "https://localhost:8080/",
          "height": 482
        },
        "id": "xbwqQgrnirfh",
        "outputId": "1291bf0c-23c7-4fe7-93be-f0c9c43a582b"
      },
      "execution_count": 5,
      "outputs": [
        {
          "output_type": "stream",
          "name": "stdout",
          "text": [
            "Clases:  [-1, 1]\n",
            "features.shape:  2\n",
            "W: [1.47230935e-05 5.00000002e-01] b: -2.0000294315000677\n"
          ]
        },
        {
          "output_type": "display_data",
          "data": {
            "text/plain": [
              "<Figure size 640x480 with 1 Axes>"
            ],
            "image/png": "[encoded data removed]"
          },
          "metadata": {}
        }
      ]
    },
    {
      "cell_type": "markdown",
      "source": [
        "Celda 5: Utiliza las svm de sklearn y compara los resultados con la celda 4"
      ],
      "metadata": {
        "id": "bG9lunaAi-kM"
      }
    },
    {
      "cell_type": "code",
      "source": [
        "from sklearn.svm import LinearSVC\n",
        "\n",
        "# Crear una instancia de LinearSVC\n",
        "clf_sklearn = LinearSVC(random_state=0, max_iter=100000000, loss=\"hinge\", C=1.0)\n",
        "\n",
        "# Ajustar el modelo a los datos generados\n",
        "clf_sklearn.fit(X_data, y_label)\n",
        "w_sklearn = clf_sklearn.coef_[0]\n",
        "b_sklearn = clf_sklearn.intercept_[0]\n",
        "print(\"W:\", w_sklearn, \"b:\", b_sklearn)\n",
        "\n",
        "# Dibujar frontera\n",
        "plot_svm_boundary(w_sklearn, b_sklearn, X_data, y_label, xlim, ylim)\n"
      ],
      "metadata": {
        "colab": {
          "base_uri": "https://localhost:8080/",
          "height": 447
        },
        "id": "bOprygDzi_aP",
        "outputId": "4b950d20-b229-43a5-d513-941a46f25d50"
      },
      "execution_count": 6,
      "outputs": [
        {
          "output_type": "stream",
          "name": "stdout",
          "text": [
            "W: [-1.63528101e-04  7.64624391e-05] b: -0.9997494062376752\n"
          ]
        },
        {
          "output_type": "display_data",
          "data": {
            "text/plain": [
              "<Figure size 640x480 with 1 Axes>"
            ],
            "image/png": "[encoded data removed]"
          },
          "metadata": {}
        }
      ]
    },
    {
      "cell_type": "code",
      "source": [
        "# Resultados de la implementación propia\n",
        "print(\"Implementación propia - W:\", w, \"b:\", b)\n",
        "# Dibujar frontera\n",
        "plot_svm_boundary(w, b, X_data, y_label, xlim, ylim)\n",
        "\n",
        "# Resultados de la implementación de sklearn\n",
        "print(\"Implementación de sklearn - W:\", w_sklearn, \"b:\", b_sklearn)\n",
        "# Dibujar frontera\n",
        "plot_svm_boundary(w_sklearn, b_sklearn, X_data, y_label, xlim, ylim)\n"
      ],
      "metadata": {
        "colab": {
          "base_uri": "https://localhost:8080/",
          "height": 878
        },
        "id": "c1AUOOw8jVnk",
        "outputId": "263e2100-46bd-41b8-d23d-c8943c46fd2f"
      },
      "execution_count": 7,
      "outputs": [
        {
          "output_type": "stream",
          "name": "stdout",
          "text": [
            "Implementación propia - W: [1.47230935e-05 5.00000002e-01] b: -2.0000294315000677\n"
          ]
        },
        {
          "output_type": "display_data",
          "data": {
            "text/plain": [
              "<Figure size 640x480 with 1 Axes>"
            ],
            "image/png": "[encoded data removed]"
          },
          "metadata": {}
        },
        {
          "output_type": "stream",
          "name": "stdout",
          "text": [
            "Implementación de sklearn - W: [-1.63528101e-04  7.64624391e-05] b: -0.9997494062376752\n"
          ]
        },
        {
          "output_type": "display_data",
          "data": {
            "text/plain": [
              "<Figure size 640x480 with 1 Axes>"
            ],
            "image/png": "[encoded data removed]"
          },
          "metadata": {}
        }
      ]
    },
    {
      "cell_type": "markdown",
      "source": [
        " Las fronteras de decisión deberían ser similares en términos de separación entre las clases."
      ],
      "metadata": {
        "id": "dQt-Ea69jduM"
      }
    }
  ]
}